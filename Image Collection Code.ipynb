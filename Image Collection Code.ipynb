{
 "cells": [
  {
   "cell_type": "code",
   "execution_count": 14,
   "id": "2f1c4a0e",
   "metadata": {},
   "outputs": [],
   "source": [
    "import cv2 #Open VC\n",
    "import os\n",
    "import time\n",
    "import uuid"
   ]
  },
  {
   "cell_type": "code",
   "execution_count": 15,
   "id": "f402fd43",
   "metadata": {},
   "outputs": [],
   "source": [
    "IMAGES_PATH = 'Tensorflow/workspace/images/collectedimages'"
   ]
  },
  {
   "cell_type": "code",
   "execution_count": 16,
   "id": "7b1b80bc",
   "metadata": {},
   "outputs": [],
   "source": [
    "# Poses that will be collected for training\n",
    "labels = ['hello', 'thanks', 'yes', 'no', 'iloveyou']\n",
    "\n",
    "# number of training images\n",
    "number_imgs = 15"
   ]
  },
  {
   "cell_type": "code",
   "execution_count": 17,
   "id": "15b5ce54",
   "metadata": {
    "scrolled": true
   },
   "outputs": [
    {
     "name": "stderr",
     "output_type": "stream",
     "text": [
      "A subdirectory or file #create already exists.\n",
      "Error occurred while processing: #create.\n",
      "A subdirectory or file a already exists.\n",
      "Error occurred while processing: a.\n",
      "A subdirectory or file directory already exists.\n",
      "Error occurred while processing: directory.\n",
      "A subdirectory or file for already exists.\n",
      "Error occurred while processing: for.\n",
      "A subdirectory or file each already exists.\n",
      "Error occurred while processing: each.\n",
      "A subdirectory or file label already exists.\n",
      "Error occurred while processing: label.\n"
     ]
    },
    {
     "name": "stdout",
     "output_type": "stream",
     "text": [
      "Collecting Images for hello\n"
     ]
    },
    {
     "name": "stderr",
     "output_type": "stream",
     "text": [
      "A subdirectory or file #create already exists.\n",
      "Error occurred while processing: #create.\n",
      "A subdirectory or file a already exists.\n",
      "Error occurred while processing: a.\n",
      "A subdirectory or file directory already exists.\n",
      "Error occurred while processing: directory.\n",
      "A subdirectory or file for already exists.\n",
      "Error occurred while processing: for.\n",
      "A subdirectory or file each already exists.\n",
      "Error occurred while processing: each.\n",
      "A subdirectory or file label already exists.\n",
      "Error occurred while processing: label.\n"
     ]
    },
    {
     "name": "stdout",
     "output_type": "stream",
     "text": [
      "Collecting Images for thanks\n"
     ]
    },
    {
     "name": "stderr",
     "output_type": "stream",
     "text": [
      "A subdirectory or file #create already exists.\n",
      "Error occurred while processing: #create.\n",
      "A subdirectory or file a already exists.\n",
      "Error occurred while processing: a.\n",
      "A subdirectory or file directory already exists.\n",
      "Error occurred while processing: directory.\n",
      "A subdirectory or file for already exists.\n",
      "Error occurred while processing: for.\n",
      "A subdirectory or file each already exists.\n",
      "Error occurred while processing: each.\n",
      "A subdirectory or file label already exists.\n",
      "Error occurred while processing: label.\n"
     ]
    },
    {
     "name": "stdout",
     "output_type": "stream",
     "text": [
      "Collecting Images for yes\n"
     ]
    },
    {
     "name": "stderr",
     "output_type": "stream",
     "text": [
      "A subdirectory or file #create already exists.\n",
      "Error occurred while processing: #create.\n",
      "A subdirectory or file a already exists.\n",
      "Error occurred while processing: a.\n",
      "A subdirectory or file directory already exists.\n",
      "Error occurred while processing: directory.\n",
      "A subdirectory or file for already exists.\n",
      "Error occurred while processing: for.\n",
      "A subdirectory or file each already exists.\n",
      "Error occurred while processing: each.\n",
      "A subdirectory or file label already exists.\n",
      "Error occurred while processing: label.\n"
     ]
    },
    {
     "name": "stdout",
     "output_type": "stream",
     "text": [
      "Collecting Images for no\n"
     ]
    },
    {
     "name": "stderr",
     "output_type": "stream",
     "text": [
      "A subdirectory or file #create already exists.\n",
      "Error occurred while processing: #create.\n",
      "A subdirectory or file a already exists.\n",
      "Error occurred while processing: a.\n",
      "A subdirectory or file directory already exists.\n",
      "Error occurred while processing: directory.\n",
      "A subdirectory or file for already exists.\n",
      "Error occurred while processing: for.\n",
      "A subdirectory or file each already exists.\n",
      "Error occurred while processing: each.\n",
      "A subdirectory or file label already exists.\n",
      "Error occurred while processing: label.\n"
     ]
    },
    {
     "name": "stdout",
     "output_type": "stream",
     "text": [
      "Collecting Images for I love you\n"
     ]
    }
   ],
   "source": [
    "for label in labels: # Looping through each lable in the array\n",
    "    !mkdir {'Tensorflow\\workspace\\images\\collectedimages\\\\'+label} #create a directory for each label\n",
    "    \n",
    "    cap = cv2.VideoCapture(0) #Start Video Capute--Initialize webcam\n",
    "    \n",
    "    print('Collecting Images for {}'.format(label)) # Print that we are collecting Images\n",
    "    time.sleep(5)\n",
    "    \n",
    "    # Loop through the number of images to collect\n",
    "    for imgnum in range(number_imgs):\n",
    "        ret, frame = cap.read()\n",
    "        imagename = os.path.join(IMAGES_PATH, label, label + '.' + '{}.jpg'.format(str(uuid.uuid1())))\n",
    "        cv2.imwrite(imagename, frame)\n",
    "        cv2.imshow('frame', frame)\n",
    "        time.sleep(2)\n",
    "        \n",
    "        if cv2.waitKey(1) & 0xFF == ('q'):\n",
    "            break\n",
    "    cap.release()\n",
    "    "
   ]
  },
  {
   "cell_type": "code",
   "execution_count": null,
   "id": "31045ec2",
   "metadata": {},
   "outputs": [],
   "source": []
  }
 ],
 "metadata": {
  "kernelspec": {
   "display_name": "Python 3 (ipykernel)",
   "language": "python",
   "name": "python3"
  },
  "language_info": {
   "codemirror_mode": {
    "name": "ipython",
    "version": 3
   },
   "file_extension": ".py",
   "mimetype": "text/x-python",
   "name": "python",
   "nbconvert_exporter": "python",
   "pygments_lexer": "ipython3",
   "version": "3.11.4"
  }
 },
 "nbformat": 4,
 "nbformat_minor": 5
}
